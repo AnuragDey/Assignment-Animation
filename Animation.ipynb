{
  "nbformat": 4,
  "nbformat_minor": 0,
  "metadata": {
    "colab": {
      "provenance": []
    },
    "kernelspec": {
      "name": "python3",
      "display_name": "Python 3"
    },
    "language_info": {
      "name": "python"
    }
  },
  "cells": [
    {
      "cell_type": "markdown",
      "source": [
        "# Animation"
      ],
      "metadata": {
        "id": "yzdcV7s_vyRo"
      }
    },
    {
      "cell_type": "code",
      "source": [
        "# 1. Explain the purpose of using the var() function in css. Also you have created two buttons with id named primaryBtn and secondaryBtn which should be given background colors using the var() function. The color code for primaryColor is #00b7ff and secondaryColor is #6c757d.\n",
        "<!DOCTYPE html>\n",
        "<html lang=\"en\">\n",
        "<head>\n",
        "    <meta charset=\"UTF-8\">\n",
        "    <meta name=\"viewport\" content=\"width=device-width, initial-scale=1.0\">\n",
        "    <title>Document</title>\n",
        "    <link rel=\"stylesheet\" href=\"style (1).css\">\n",
        "</head>\n",
        "<body>\n",
        "    <button id=\"primaryBtn\">Primary Button</button>\n",
        "    <button id=\"secondaryBtn\">Secondary Button</button>\n",
        "</body>\n",
        "</html>"
      ],
      "metadata": {
        "id": "rm8VCDsO7e_q"
      },
      "execution_count": null,
      "outputs": []
    },
    {
      "cell_type": "code",
      "source": [
        ":root {\n",
        "    --primaryColor: #00b7ff;\n",
        "    --secondaryColor: #6c757d;\n",
        "}\n",
        "\n",
        "#primaryBtn {\n",
        "    background-color: var(--primaryColor);\n",
        "    color: white;\n",
        "    border: none;\n",
        "    padding: 5px 5px;\n",
        "}\n",
        "\n",
        "#secondaryBtn {\n",
        "    background-color: var(--secondaryColor);\n",
        "    color:white;\n",
        "    border: none;\n",
        "    padding: 5px 5px;\n",
        "}"
      ],
      "metadata": {
        "id": "-R_2H2UV7ohW"
      },
      "execution_count": null,
      "outputs": []
    },
    {
      "cell_type": "code",
      "source": [
        "# 2. Create a 3D cube using the transform property of CSS.\n",
        "<!DOCTYPE html>\n",
        "<html lang=\"en\">\n",
        "<head>\n",
        "    <meta charset=\"UTF-8\">\n",
        "    <meta name=\"viewport\" content=\"width=device-width, initial-scale=1.0\">\n",
        "    <title>3D cube</title>\n",
        "    <link rel=\"stylesheet\" href=\"style (2).css\">\n",
        "</head>\n",
        "  <body>\n",
        "    <div class=\"container\">\n",
        "      <div class=\"cube\">\n",
        "        <div class=\"face front\">Front</div>\n",
        "        <div class=\"face back\">Back</div>\n",
        "        <div class=\"face right\">Right</div>\n",
        "        <div class=\"face left\">Left</div>\n",
        "        <div class=\"face top\">Top</div>\n",
        "        <div class=\"face bottom\">Bottom</div>\n",
        "      </div>\n",
        "    </div>\n",
        "  </body>\n",
        "</html>"
      ],
      "metadata": {
        "id": "m26GEzI573oP"
      },
      "execution_count": null,
      "outputs": []
    },
    {
      "cell_type": "code",
      "source": [
        "body {\n",
        "  background-color: #f0f0f0;\n",
        "  display: flex;\n",
        "  justify-content: center;\n",
        "  align-items: center;\n",
        "  min-height: 100vh;\n",
        "}\n",
        "\n",
        ".container {\n",
        "  perspective: 1000px;\n",
        "}\n",
        "\n",
        ".cube {\n",
        "  width: 200px;\n",
        "  height: 200px;\n",
        "  position: relative;\n",
        "  transform-style: preserve-3d;\n",
        "}\n",
        "\n",
        ".face {\n",
        "  position: absolute;\n",
        "  width: 200px;\n",
        "  height: 200px;\n",
        "  border: 1px solid black;\n",
        "  display: flex;\n",
        "  justify-content: center;\n",
        "  align-items: center;\n",
        "  font-size: 24px;\n",
        "  font-weight: bold;\n",
        "  color: black;\n",
        "  opacity: 0.9;\n",
        "}\n",
        "\n",
        ".front {\n",
        "  background-color: #00b7ff;\n",
        "  transform: translateZ(100px);\n",
        "}\n",
        "\n",
        ".back {\n",
        "  background-color: #00b7ff;\n",
        "  transform: rotateY(180deg) translateZ(100px);\n",
        "}\n",
        "\n",
        ".right {\n",
        "  background-color: #00b7ff;\n",
        "  transform: rotateY(90deg) translateZ(100px);\n",
        "}\n",
        "\n",
        ".left {\n",
        "  background-color: #00b7ff;\n",
        "  transform: rotateY(-90deg) translateZ(100px);\n",
        "}\n",
        "\n",
        ".top {\n",
        "  background-color: #00b7ff;\n",
        "  transform: rotateX(90deg) translateZ(100px);\n",
        "}\n",
        "\n",
        ".bottom {\n",
        "  background-color: #00b7ff;\n",
        "  transform: rotateX(-90deg) translateZ(100px);\n",
        "}\n",
        "\n",
        "\n",
        "@keyframes rotate {\n",
        "  0% {\n",
        "    transform: rotateX(0deg) rotateY(0deg);\n",
        "  }\n",
        "  25% {\n",
        "    transform: rotateX(90deg) rotateY(90deg);\n",
        "  }\n",
        "  50% {\n",
        "    transform: rotateX(180deg) rotateY(180deg);\n",
        "  }\n",
        "  75% {\n",
        "    transform: rotateX(270deg) rotateY(270deg);\n",
        "  }\n",
        "  100% {\n",
        "    transform: rotateX(360deg) rotateY(360deg);\n",
        "  }\n",
        "}\n",
        "\n",
        ".cube {\n",
        "  width: 200px;\n",
        "  height: 200px;\n",
        "  position: relative;\n",
        "  transform-style: preserve-3d;\n",
        "  animation: rotate 20s infinite linear;\n",
        "}"
      ],
      "metadata": {
        "id": "kVl-7og48jue"
      },
      "execution_count": null,
      "outputs": []
    },
    {
      "cell_type": "code",
      "source": [
        "# 3. Create a simple circular loader which will rotate continuously to look like a loading screen on a website.\n",
        "<!DOCTYPE html>\n",
        "<html lang=\"en\">\n",
        "<head>\n",
        "    <meta charset=\"UTF-8\">\n",
        "    <meta name=\"viewport\" content=\"width=device-width, initial-scale=1.0\">\n",
        "    <title>Document</title>\n",
        "    <style>\n",
        "        body {\n",
        "            display: flex;\n",
        "            flex-wrap: wrap;\n",
        "            justify-content: center;\n",
        "            align-items: center;\n",
        "            height: 100vh;\n",
        "            margin: 0;\n",
        "            background-color: #f0f0f0;\n",
        "        }\n",
        "\n",
        "        #loader {\n",
        "            width: 50px;\n",
        "            height: 50px;\n",
        "            margin: 20px;\n",
        "            border: 8px solid #f3f3f3;\n",
        "            border-top: 8px solid #3498db;\n",
        "            border-radius: 50%;\n",
        "            animation: spin 2s linear infinite;\n",
        "        }\n",
        "\n",
        "        @keyframes spin {\n",
        "            0% {\n",
        "                transform: rotate(0deg);\n",
        "            }\n",
        "            100% {\n",
        "                transform: rotate(360deg);\n",
        "            }\n",
        "        }\n",
        "    </style>\n",
        "</head>\n",
        "<body>\n",
        "    <div id=\"loader\"></div>\n",
        "</body>\n",
        "</html>"
      ],
      "metadata": {
        "id": "85IlWeHH83Aw"
      },
      "execution_count": null,
      "outputs": []
    },
    {
      "cell_type": "code",
      "source": [
        "# 4. You have to visit the PW Skills website (https://pwskills.com/) and have to hide the logo by using the developer tool. This should be done using the css and developer tool only, use of javascript is prohibited.\n",
        "audio, canvas, embed, iframe, img, object, svg, video {\n",
        "    display: none;\n",
        "    vertical-align: middle;\n",
        "}"
      ],
      "metadata": {
        "id": "tUEhmB7W9C6t"
      },
      "execution_count": null,
      "outputs": []
    },
    {
      "cell_type": "code",
      "source": [
        "# 5. You have to visit the PW Skills website (https://pwskills.com/) and have to change the content of the ‘Login / Register’ button to ‘Connect with us’ using the developer tool. This should be done using the elements of developer tools only, use of javascript is prohibited.\n",
        "<button class=\"opacity-100 border border-orange-500 text-orange-500 hover:text-orange-600 hover:border-orange-600 text-sm px-3 py-[10px] medium:text-base medium:px-6 medium:py-3 font-semibold rounded-md flex gap-2 justify-center items-center font-nunitoSans cursor-pointer\">Connect with us</button>"
      ],
      "metadata": {
        "id": "xl96cqzo9OH3"
      },
      "execution_count": null,
      "outputs": []
    }
  ]
}